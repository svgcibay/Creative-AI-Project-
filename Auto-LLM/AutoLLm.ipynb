{
  "nbformat": 4,
  "nbformat_minor": 0,
  "metadata": {
    "colab": {
      "provenance": []
    },
    "kernelspec": {
      "name": "python3",
      "display_name": "Python 3"
    },
    "language_info": {
      "name": "python"
    },
    "widgets": {
      "application/vnd.jupyter.widget-state+json": {
        "ba828b355ad34ab38f1637a981dfc719": {
          "model_module": "@jupyter-widgets/controls",
          "model_name": "HBoxModel",
          "model_module_version": "1.5.0",
          "state": {
            "_dom_classes": [],
            "_model_module": "@jupyter-widgets/controls",
            "_model_module_version": "1.5.0",
            "_model_name": "HBoxModel",
            "_view_count": null,
            "_view_module": "@jupyter-widgets/controls",
            "_view_module_version": "1.5.0",
            "_view_name": "HBoxView",
            "box_style": "",
            "children": [
              "IPY_MODEL_aa8faccb60774b1d8779d5a3f0452e3a",
              "IPY_MODEL_3271fa02339f4b42adac9242c1d5377f",
              "IPY_MODEL_d3c2cf7f51ff4ba8a289efd297ad7230"
            ],
            "layout": "IPY_MODEL_42fbacccf9dc4b11aaf15f01a1dc6286"
          }
        },
        "aa8faccb60774b1d8779d5a3f0452e3a": {
          "model_module": "@jupyter-widgets/controls",
          "model_name": "HTMLModel",
          "model_module_version": "1.5.0",
          "state": {
            "_dom_classes": [],
            "_model_module": "@jupyter-widgets/controls",
            "_model_module_version": "1.5.0",
            "_model_name": "HTMLModel",
            "_view_count": null,
            "_view_module": "@jupyter-widgets/controls",
            "_view_module_version": "1.5.0",
            "_view_name": "HTMLView",
            "description": "",
            "description_tooltip": null,
            "layout": "IPY_MODEL_3e8c91361de44076b87c2fad9d238db1",
            "placeholder": "​",
            "style": "IPY_MODEL_208781bfa6a640d6ac08c9d292c9edc2",
            "value": "Parsing nodes: 100%"
          }
        },
        "3271fa02339f4b42adac9242c1d5377f": {
          "model_module": "@jupyter-widgets/controls",
          "model_name": "FloatProgressModel",
          "model_module_version": "1.5.0",
          "state": {
            "_dom_classes": [],
            "_model_module": "@jupyter-widgets/controls",
            "_model_module_version": "1.5.0",
            "_model_name": "FloatProgressModel",
            "_view_count": null,
            "_view_module": "@jupyter-widgets/controls",
            "_view_module_version": "1.5.0",
            "_view_name": "ProgressView",
            "bar_style": "success",
            "description": "",
            "description_tooltip": null,
            "layout": "IPY_MODEL_9b9df578b47149dcbf459ed4401fd56a",
            "max": 24,
            "min": 0,
            "orientation": "horizontal",
            "style": "IPY_MODEL_2e3aa2d9416b4cf180729140d2e33f8d",
            "value": 24
          }
        },
        "d3c2cf7f51ff4ba8a289efd297ad7230": {
          "model_module": "@jupyter-widgets/controls",
          "model_name": "HTMLModel",
          "model_module_version": "1.5.0",
          "state": {
            "_dom_classes": [],
            "_model_module": "@jupyter-widgets/controls",
            "_model_module_version": "1.5.0",
            "_model_name": "HTMLModel",
            "_view_count": null,
            "_view_module": "@jupyter-widgets/controls",
            "_view_module_version": "1.5.0",
            "_view_name": "HTMLView",
            "description": "",
            "description_tooltip": null,
            "layout": "IPY_MODEL_eb8d47df803449faa18b89d9756d9a79",
            "placeholder": "​",
            "style": "IPY_MODEL_681a1cd7383540c59f828a813c0d8c3b",
            "value": " 24/24 [00:00&lt;00:00, 306.36it/s]"
          }
        },
        "42fbacccf9dc4b11aaf15f01a1dc6286": {
          "model_module": "@jupyter-widgets/base",
          "model_name": "LayoutModel",
          "model_module_version": "1.2.0",
          "state": {
            "_model_module": "@jupyter-widgets/base",
            "_model_module_version": "1.2.0",
            "_model_name": "LayoutModel",
            "_view_count": null,
            "_view_module": "@jupyter-widgets/base",
            "_view_module_version": "1.2.0",
            "_view_name": "LayoutView",
            "align_content": null,
            "align_items": null,
            "align_self": null,
            "border": null,
            "bottom": null,
            "display": null,
            "flex": null,
            "flex_flow": null,
            "grid_area": null,
            "grid_auto_columns": null,
            "grid_auto_flow": null,
            "grid_auto_rows": null,
            "grid_column": null,
            "grid_gap": null,
            "grid_row": null,
            "grid_template_areas": null,
            "grid_template_columns": null,
            "grid_template_rows": null,
            "height": null,
            "justify_content": null,
            "justify_items": null,
            "left": null,
            "margin": null,
            "max_height": null,
            "max_width": null,
            "min_height": null,
            "min_width": null,
            "object_fit": null,
            "object_position": null,
            "order": null,
            "overflow": null,
            "overflow_x": null,
            "overflow_y": null,
            "padding": null,
            "right": null,
            "top": null,
            "visibility": null,
            "width": null
          }
        },
        "3e8c91361de44076b87c2fad9d238db1": {
          "model_module": "@jupyter-widgets/base",
          "model_name": "LayoutModel",
          "model_module_version": "1.2.0",
          "state": {
            "_model_module": "@jupyter-widgets/base",
            "_model_module_version": "1.2.0",
            "_model_name": "LayoutModel",
            "_view_count": null,
            "_view_module": "@jupyter-widgets/base",
            "_view_module_version": "1.2.0",
            "_view_name": "LayoutView",
            "align_content": null,
            "align_items": null,
            "align_self": null,
            "border": null,
            "bottom": null,
            "display": null,
            "flex": null,
            "flex_flow": null,
            "grid_area": null,
            "grid_auto_columns": null,
            "grid_auto_flow": null,
            "grid_auto_rows": null,
            "grid_column": null,
            "grid_gap": null,
            "grid_row": null,
            "grid_template_areas": null,
            "grid_template_columns": null,
            "grid_template_rows": null,
            "height": null,
            "justify_content": null,
            "justify_items": null,
            "left": null,
            "margin": null,
            "max_height": null,
            "max_width": null,
            "min_height": null,
            "min_width": null,
            "object_fit": null,
            "object_position": null,
            "order": null,
            "overflow": null,
            "overflow_x": null,
            "overflow_y": null,
            "padding": null,
            "right": null,
            "top": null,
            "visibility": null,
            "width": null
          }
        },
        "208781bfa6a640d6ac08c9d292c9edc2": {
          "model_module": "@jupyter-widgets/controls",
          "model_name": "DescriptionStyleModel",
          "model_module_version": "1.5.0",
          "state": {
            "_model_module": "@jupyter-widgets/controls",
            "_model_module_version": "1.5.0",
            "_model_name": "DescriptionStyleModel",
            "_view_count": null,
            "_view_module": "@jupyter-widgets/base",
            "_view_module_version": "1.2.0",
            "_view_name": "StyleView",
            "description_width": ""
          }
        },
        "9b9df578b47149dcbf459ed4401fd56a": {
          "model_module": "@jupyter-widgets/base",
          "model_name": "LayoutModel",
          "model_module_version": "1.2.0",
          "state": {
            "_model_module": "@jupyter-widgets/base",
            "_model_module_version": "1.2.0",
            "_model_name": "LayoutModel",
            "_view_count": null,
            "_view_module": "@jupyter-widgets/base",
            "_view_module_version": "1.2.0",
            "_view_name": "LayoutView",
            "align_content": null,
            "align_items": null,
            "align_self": null,
            "border": null,
            "bottom": null,
            "display": null,
            "flex": null,
            "flex_flow": null,
            "grid_area": null,
            "grid_auto_columns": null,
            "grid_auto_flow": null,
            "grid_auto_rows": null,
            "grid_column": null,
            "grid_gap": null,
            "grid_row": null,
            "grid_template_areas": null,
            "grid_template_columns": null,
            "grid_template_rows": null,
            "height": null,
            "justify_content": null,
            "justify_items": null,
            "left": null,
            "margin": null,
            "max_height": null,
            "max_width": null,
            "min_height": null,
            "min_width": null,
            "object_fit": null,
            "object_position": null,
            "order": null,
            "overflow": null,
            "overflow_x": null,
            "overflow_y": null,
            "padding": null,
            "right": null,
            "top": null,
            "visibility": null,
            "width": null
          }
        },
        "2e3aa2d9416b4cf180729140d2e33f8d": {
          "model_module": "@jupyter-widgets/controls",
          "model_name": "ProgressStyleModel",
          "model_module_version": "1.5.0",
          "state": {
            "_model_module": "@jupyter-widgets/controls",
            "_model_module_version": "1.5.0",
            "_model_name": "ProgressStyleModel",
            "_view_count": null,
            "_view_module": "@jupyter-widgets/base",
            "_view_module_version": "1.2.0",
            "_view_name": "StyleView",
            "bar_color": null,
            "description_width": ""
          }
        },
        "eb8d47df803449faa18b89d9756d9a79": {
          "model_module": "@jupyter-widgets/base",
          "model_name": "LayoutModel",
          "model_module_version": "1.2.0",
          "state": {
            "_model_module": "@jupyter-widgets/base",
            "_model_module_version": "1.2.0",
            "_model_name": "LayoutModel",
            "_view_count": null,
            "_view_module": "@jupyter-widgets/base",
            "_view_module_version": "1.2.0",
            "_view_name": "LayoutView",
            "align_content": null,
            "align_items": null,
            "align_self": null,
            "border": null,
            "bottom": null,
            "display": null,
            "flex": null,
            "flex_flow": null,
            "grid_area": null,
            "grid_auto_columns": null,
            "grid_auto_flow": null,
            "grid_auto_rows": null,
            "grid_column": null,
            "grid_gap": null,
            "grid_row": null,
            "grid_template_areas": null,
            "grid_template_columns": null,
            "grid_template_rows": null,
            "height": null,
            "justify_content": null,
            "justify_items": null,
            "left": null,
            "margin": null,
            "max_height": null,
            "max_width": null,
            "min_height": null,
            "min_width": null,
            "object_fit": null,
            "object_position": null,
            "order": null,
            "overflow": null,
            "overflow_x": null,
            "overflow_y": null,
            "padding": null,
            "right": null,
            "top": null,
            "visibility": null,
            "width": null
          }
        },
        "681a1cd7383540c59f828a813c0d8c3b": {
          "model_module": "@jupyter-widgets/controls",
          "model_name": "DescriptionStyleModel",
          "model_module_version": "1.5.0",
          "state": {
            "_model_module": "@jupyter-widgets/controls",
            "_model_module_version": "1.5.0",
            "_model_name": "DescriptionStyleModel",
            "_view_count": null,
            "_view_module": "@jupyter-widgets/base",
            "_view_module_version": "1.2.0",
            "_view_name": "StyleView",
            "description_width": ""
          }
        },
        "d803935fcfae4e48837421a750528848": {
          "model_module": "@jupyter-widgets/controls",
          "model_name": "HBoxModel",
          "model_module_version": "1.5.0",
          "state": {
            "_dom_classes": [],
            "_model_module": "@jupyter-widgets/controls",
            "_model_module_version": "1.5.0",
            "_model_name": "HBoxModel",
            "_view_count": null,
            "_view_module": "@jupyter-widgets/controls",
            "_view_module_version": "1.5.0",
            "_view_name": "HBoxView",
            "box_style": "",
            "children": [
              "IPY_MODEL_4bef95d9e9b149e5a2f4a9cf44696f16",
              "IPY_MODEL_d41809c87ee44fc6b4fe58674205ad50",
              "IPY_MODEL_21be01901f434ab2b7e5f41d5b98be4a"
            ],
            "layout": "IPY_MODEL_ecd46899561a4e548905f6ca0b74a7ad"
          }
        },
        "4bef95d9e9b149e5a2f4a9cf44696f16": {
          "model_module": "@jupyter-widgets/controls",
          "model_name": "HTMLModel",
          "model_module_version": "1.5.0",
          "state": {
            "_dom_classes": [],
            "_model_module": "@jupyter-widgets/controls",
            "_model_module_version": "1.5.0",
            "_model_name": "HTMLModel",
            "_view_count": null,
            "_view_module": "@jupyter-widgets/controls",
            "_view_module_version": "1.5.0",
            "_view_name": "HTMLView",
            "description": "",
            "description_tooltip": null,
            "layout": "IPY_MODEL_6aa01be8da94464e9adca99679285c6c",
            "placeholder": "​",
            "style": "IPY_MODEL_9ecb8bdc9c214a32b5e6add346297987",
            "value": "Generating embeddings: 100%"
          }
        },
        "d41809c87ee44fc6b4fe58674205ad50": {
          "model_module": "@jupyter-widgets/controls",
          "model_name": "FloatProgressModel",
          "model_module_version": "1.5.0",
          "state": {
            "_dom_classes": [],
            "_model_module": "@jupyter-widgets/controls",
            "_model_module_version": "1.5.0",
            "_model_name": "FloatProgressModel",
            "_view_count": null,
            "_view_module": "@jupyter-widgets/controls",
            "_view_module_version": "1.5.0",
            "_view_name": "ProgressView",
            "bar_style": "success",
            "description": "",
            "description_tooltip": null,
            "layout": "IPY_MODEL_bbbec17cb7d8414e9247c711c0b204d3",
            "max": 47,
            "min": 0,
            "orientation": "horizontal",
            "style": "IPY_MODEL_ab6be3161f87473e8000f5e2d9a055e0",
            "value": 47
          }
        },
        "21be01901f434ab2b7e5f41d5b98be4a": {
          "model_module": "@jupyter-widgets/controls",
          "model_name": "HTMLModel",
          "model_module_version": "1.5.0",
          "state": {
            "_dom_classes": [],
            "_model_module": "@jupyter-widgets/controls",
            "_model_module_version": "1.5.0",
            "_model_name": "HTMLModel",
            "_view_count": null,
            "_view_module": "@jupyter-widgets/controls",
            "_view_module_version": "1.5.0",
            "_view_name": "HTMLView",
            "description": "",
            "description_tooltip": null,
            "layout": "IPY_MODEL_a3fa01807c7e431eb89b5b49bd926d46",
            "placeholder": "​",
            "style": "IPY_MODEL_a324b2deb0d14962967afd0c8875e455",
            "value": " 47/47 [00:16&lt;00:00,  3.07it/s]"
          }
        },
        "ecd46899561a4e548905f6ca0b74a7ad": {
          "model_module": "@jupyter-widgets/base",
          "model_name": "LayoutModel",
          "model_module_version": "1.2.0",
          "state": {
            "_model_module": "@jupyter-widgets/base",
            "_model_module_version": "1.2.0",
            "_model_name": "LayoutModel",
            "_view_count": null,
            "_view_module": "@jupyter-widgets/base",
            "_view_module_version": "1.2.0",
            "_view_name": "LayoutView",
            "align_content": null,
            "align_items": null,
            "align_self": null,
            "border": null,
            "bottom": null,
            "display": null,
            "flex": null,
            "flex_flow": null,
            "grid_area": null,
            "grid_auto_columns": null,
            "grid_auto_flow": null,
            "grid_auto_rows": null,
            "grid_column": null,
            "grid_gap": null,
            "grid_row": null,
            "grid_template_areas": null,
            "grid_template_columns": null,
            "grid_template_rows": null,
            "height": null,
            "justify_content": null,
            "justify_items": null,
            "left": null,
            "margin": null,
            "max_height": null,
            "max_width": null,
            "min_height": null,
            "min_width": null,
            "object_fit": null,
            "object_position": null,
            "order": null,
            "overflow": null,
            "overflow_x": null,
            "overflow_y": null,
            "padding": null,
            "right": null,
            "top": null,
            "visibility": null,
            "width": null
          }
        },
        "6aa01be8da94464e9adca99679285c6c": {
          "model_module": "@jupyter-widgets/base",
          "model_name": "LayoutModel",
          "model_module_version": "1.2.0",
          "state": {
            "_model_module": "@jupyter-widgets/base",
            "_model_module_version": "1.2.0",
            "_model_name": "LayoutModel",
            "_view_count": null,
            "_view_module": "@jupyter-widgets/base",
            "_view_module_version": "1.2.0",
            "_view_name": "LayoutView",
            "align_content": null,
            "align_items": null,
            "align_self": null,
            "border": null,
            "bottom": null,
            "display": null,
            "flex": null,
            "flex_flow": null,
            "grid_area": null,
            "grid_auto_columns": null,
            "grid_auto_flow": null,
            "grid_auto_rows": null,
            "grid_column": null,
            "grid_gap": null,
            "grid_row": null,
            "grid_template_areas": null,
            "grid_template_columns": null,
            "grid_template_rows": null,
            "height": null,
            "justify_content": null,
            "justify_items": null,
            "left": null,
            "margin": null,
            "max_height": null,
            "max_width": null,
            "min_height": null,
            "min_width": null,
            "object_fit": null,
            "object_position": null,
            "order": null,
            "overflow": null,
            "overflow_x": null,
            "overflow_y": null,
            "padding": null,
            "right": null,
            "top": null,
            "visibility": null,
            "width": null
          }
        },
        "9ecb8bdc9c214a32b5e6add346297987": {
          "model_module": "@jupyter-widgets/controls",
          "model_name": "DescriptionStyleModel",
          "model_module_version": "1.5.0",
          "state": {
            "_model_module": "@jupyter-widgets/controls",
            "_model_module_version": "1.5.0",
            "_model_name": "DescriptionStyleModel",
            "_view_count": null,
            "_view_module": "@jupyter-widgets/base",
            "_view_module_version": "1.2.0",
            "_view_name": "StyleView",
            "description_width": ""
          }
        },
        "bbbec17cb7d8414e9247c711c0b204d3": {
          "model_module": "@jupyter-widgets/base",
          "model_name": "LayoutModel",
          "model_module_version": "1.2.0",
          "state": {
            "_model_module": "@jupyter-widgets/base",
            "_model_module_version": "1.2.0",
            "_model_name": "LayoutModel",
            "_view_count": null,
            "_view_module": "@jupyter-widgets/base",
            "_view_module_version": "1.2.0",
            "_view_name": "LayoutView",
            "align_content": null,
            "align_items": null,
            "align_self": null,
            "border": null,
            "bottom": null,
            "display": null,
            "flex": null,
            "flex_flow": null,
            "grid_area": null,
            "grid_auto_columns": null,
            "grid_auto_flow": null,
            "grid_auto_rows": null,
            "grid_column": null,
            "grid_gap": null,
            "grid_row": null,
            "grid_template_areas": null,
            "grid_template_columns": null,
            "grid_template_rows": null,
            "height": null,
            "justify_content": null,
            "justify_items": null,
            "left": null,
            "margin": null,
            "max_height": null,
            "max_width": null,
            "min_height": null,
            "min_width": null,
            "object_fit": null,
            "object_position": null,
            "order": null,
            "overflow": null,
            "overflow_x": null,
            "overflow_y": null,
            "padding": null,
            "right": null,
            "top": null,
            "visibility": null,
            "width": null
          }
        },
        "ab6be3161f87473e8000f5e2d9a055e0": {
          "model_module": "@jupyter-widgets/controls",
          "model_name": "ProgressStyleModel",
          "model_module_version": "1.5.0",
          "state": {
            "_model_module": "@jupyter-widgets/controls",
            "_model_module_version": "1.5.0",
            "_model_name": "ProgressStyleModel",
            "_view_count": null,
            "_view_module": "@jupyter-widgets/base",
            "_view_module_version": "1.2.0",
            "_view_name": "StyleView",
            "bar_color": null,
            "description_width": ""
          }
        },
        "a3fa01807c7e431eb89b5b49bd926d46": {
          "model_module": "@jupyter-widgets/base",
          "model_name": "LayoutModel",
          "model_module_version": "1.2.0",
          "state": {
            "_model_module": "@jupyter-widgets/base",
            "_model_module_version": "1.2.0",
            "_model_name": "LayoutModel",
            "_view_count": null,
            "_view_module": "@jupyter-widgets/base",
            "_view_module_version": "1.2.0",
            "_view_name": "LayoutView",
            "align_content": null,
            "align_items": null,
            "align_self": null,
            "border": null,
            "bottom": null,
            "display": null,
            "flex": null,
            "flex_flow": null,
            "grid_area": null,
            "grid_auto_columns": null,
            "grid_auto_flow": null,
            "grid_auto_rows": null,
            "grid_column": null,
            "grid_gap": null,
            "grid_row": null,
            "grid_template_areas": null,
            "grid_template_columns": null,
            "grid_template_rows": null,
            "height": null,
            "justify_content": null,
            "justify_items": null,
            "left": null,
            "margin": null,
            "max_height": null,
            "max_width": null,
            "min_height": null,
            "min_width": null,
            "object_fit": null,
            "object_position": null,
            "order": null,
            "overflow": null,
            "overflow_x": null,
            "overflow_y": null,
            "padding": null,
            "right": null,
            "top": null,
            "visibility": null,
            "width": null
          }
        },
        "a324b2deb0d14962967afd0c8875e455": {
          "model_module": "@jupyter-widgets/controls",
          "model_name": "DescriptionStyleModel",
          "model_module_version": "1.5.0",
          "state": {
            "_model_module": "@jupyter-widgets/controls",
            "_model_module_version": "1.5.0",
            "_model_name": "DescriptionStyleModel",
            "_view_count": null,
            "_view_module": "@jupyter-widgets/base",
            "_view_module_version": "1.2.0",
            "_view_name": "StyleView",
            "description_width": ""
          }
        },
        "8bb7595c7ea143eeb9ec0bc8c7006d04": {
          "model_module": "@jupyter-widgets/controls",
          "model_name": "HBoxModel",
          "model_module_version": "1.5.0",
          "state": {
            "_dom_classes": [],
            "_model_module": "@jupyter-widgets/controls",
            "_model_module_version": "1.5.0",
            "_model_name": "HBoxModel",
            "_view_count": null,
            "_view_module": "@jupyter-widgets/controls",
            "_view_module_version": "1.5.0",
            "_view_name": "HBoxView",
            "box_style": "",
            "children": [
              "IPY_MODEL_8e7e5867b7b0486bb172f23492bf7166",
              "IPY_MODEL_2da99d9c3fd04b1e8ea07e3b5b4ac674",
              "IPY_MODEL_8aa9d168efed44219084720e6880a27a"
            ],
            "layout": "IPY_MODEL_ee6df318a7414d32b2e54251f220e2b7"
          }
        },
        "8e7e5867b7b0486bb172f23492bf7166": {
          "model_module": "@jupyter-widgets/controls",
          "model_name": "HTMLModel",
          "model_module_version": "1.5.0",
          "state": {
            "_dom_classes": [],
            "_model_module": "@jupyter-widgets/controls",
            "_model_module_version": "1.5.0",
            "_model_name": "HTMLModel",
            "_view_count": null,
            "_view_module": "@jupyter-widgets/controls",
            "_view_module_version": "1.5.0",
            "_view_name": "HTMLView",
            "description": "",
            "description_tooltip": null,
            "layout": "IPY_MODEL_69eb7cc704804ce19264b6c07440cedb",
            "placeholder": "​",
            "style": "IPY_MODEL_ce44eee71cd844bfad39ad6b1dfe7cbc",
            "value": "Parsing nodes: 100%"
          }
        },
        "2da99d9c3fd04b1e8ea07e3b5b4ac674": {
          "model_module": "@jupyter-widgets/controls",
          "model_name": "FloatProgressModel",
          "model_module_version": "1.5.0",
          "state": {
            "_dom_classes": [],
            "_model_module": "@jupyter-widgets/controls",
            "_model_module_version": "1.5.0",
            "_model_name": "FloatProgressModel",
            "_view_count": null,
            "_view_module": "@jupyter-widgets/controls",
            "_view_module_version": "1.5.0",
            "_view_name": "ProgressView",
            "bar_style": "success",
            "description": "",
            "description_tooltip": null,
            "layout": "IPY_MODEL_86abc256d62f4ef48867b1c9b79e1508",
            "max": 24,
            "min": 0,
            "orientation": "horizontal",
            "style": "IPY_MODEL_897b17fb69e240ed9959c087ca022435",
            "value": 24
          }
        },
        "8aa9d168efed44219084720e6880a27a": {
          "model_module": "@jupyter-widgets/controls",
          "model_name": "HTMLModel",
          "model_module_version": "1.5.0",
          "state": {
            "_dom_classes": [],
            "_model_module": "@jupyter-widgets/controls",
            "_model_module_version": "1.5.0",
            "_model_name": "HTMLModel",
            "_view_count": null,
            "_view_module": "@jupyter-widgets/controls",
            "_view_module_version": "1.5.0",
            "_view_name": "HTMLView",
            "description": "",
            "description_tooltip": null,
            "layout": "IPY_MODEL_0834f7950ecb44848cbc06d9ca4cee08",
            "placeholder": "​",
            "style": "IPY_MODEL_bb97f9ed73384c449b1647a2bae6adaf",
            "value": " 24/24 [00:00&lt;00:00, 313.86it/s]"
          }
        },
        "ee6df318a7414d32b2e54251f220e2b7": {
          "model_module": "@jupyter-widgets/base",
          "model_name": "LayoutModel",
          "model_module_version": "1.2.0",
          "state": {
            "_model_module": "@jupyter-widgets/base",
            "_model_module_version": "1.2.0",
            "_model_name": "LayoutModel",
            "_view_count": null,
            "_view_module": "@jupyter-widgets/base",
            "_view_module_version": "1.2.0",
            "_view_name": "LayoutView",
            "align_content": null,
            "align_items": null,
            "align_self": null,
            "border": null,
            "bottom": null,
            "display": null,
            "flex": null,
            "flex_flow": null,
            "grid_area": null,
            "grid_auto_columns": null,
            "grid_auto_flow": null,
            "grid_auto_rows": null,
            "grid_column": null,
            "grid_gap": null,
            "grid_row": null,
            "grid_template_areas": null,
            "grid_template_columns": null,
            "grid_template_rows": null,
            "height": null,
            "justify_content": null,
            "justify_items": null,
            "left": null,
            "margin": null,
            "max_height": null,
            "max_width": null,
            "min_height": null,
            "min_width": null,
            "object_fit": null,
            "object_position": null,
            "order": null,
            "overflow": null,
            "overflow_x": null,
            "overflow_y": null,
            "padding": null,
            "right": null,
            "top": null,
            "visibility": null,
            "width": null
          }
        },
        "69eb7cc704804ce19264b6c07440cedb": {
          "model_module": "@jupyter-widgets/base",
          "model_name": "LayoutModel",
          "model_module_version": "1.2.0",
          "state": {
            "_model_module": "@jupyter-widgets/base",
            "_model_module_version": "1.2.0",
            "_model_name": "LayoutModel",
            "_view_count": null,
            "_view_module": "@jupyter-widgets/base",
            "_view_module_version": "1.2.0",
            "_view_name": "LayoutView",
            "align_content": null,
            "align_items": null,
            "align_self": null,
            "border": null,
            "bottom": null,
            "display": null,
            "flex": null,
            "flex_flow": null,
            "grid_area": null,
            "grid_auto_columns": null,
            "grid_auto_flow": null,
            "grid_auto_rows": null,
            "grid_column": null,
            "grid_gap": null,
            "grid_row": null,
            "grid_template_areas": null,
            "grid_template_columns": null,
            "grid_template_rows": null,
            "height": null,
            "justify_content": null,
            "justify_items": null,
            "left": null,
            "margin": null,
            "max_height": null,
            "max_width": null,
            "min_height": null,
            "min_width": null,
            "object_fit": null,
            "object_position": null,
            "order": null,
            "overflow": null,
            "overflow_x": null,
            "overflow_y": null,
            "padding": null,
            "right": null,
            "top": null,
            "visibility": null,
            "width": null
          }
        },
        "ce44eee71cd844bfad39ad6b1dfe7cbc": {
          "model_module": "@jupyter-widgets/controls",
          "model_name": "DescriptionStyleModel",
          "model_module_version": "1.5.0",
          "state": {
            "_model_module": "@jupyter-widgets/controls",
            "_model_module_version": "1.5.0",
            "_model_name": "DescriptionStyleModel",
            "_view_count": null,
            "_view_module": "@jupyter-widgets/base",
            "_view_module_version": "1.2.0",
            "_view_name": "StyleView",
            "description_width": ""
          }
        },
        "86abc256d62f4ef48867b1c9b79e1508": {
          "model_module": "@jupyter-widgets/base",
          "model_name": "LayoutModel",
          "model_module_version": "1.2.0",
          "state": {
            "_model_module": "@jupyter-widgets/base",
            "_model_module_version": "1.2.0",
            "_model_name": "LayoutModel",
            "_view_count": null,
            "_view_module": "@jupyter-widgets/base",
            "_view_module_version": "1.2.0",
            "_view_name": "LayoutView",
            "align_content": null,
            "align_items": null,
            "align_self": null,
            "border": null,
            "bottom": null,
            "display": null,
            "flex": null,
            "flex_flow": null,
            "grid_area": null,
            "grid_auto_columns": null,
            "grid_auto_flow": null,
            "grid_auto_rows": null,
            "grid_column": null,
            "grid_gap": null,
            "grid_row": null,
            "grid_template_areas": null,
            "grid_template_columns": null,
            "grid_template_rows": null,
            "height": null,
            "justify_content": null,
            "justify_items": null,
            "left": null,
            "margin": null,
            "max_height": null,
            "max_width": null,
            "min_height": null,
            "min_width": null,
            "object_fit": null,
            "object_position": null,
            "order": null,
            "overflow": null,
            "overflow_x": null,
            "overflow_y": null,
            "padding": null,
            "right": null,
            "top": null,
            "visibility": null,
            "width": null
          }
        },
        "897b17fb69e240ed9959c087ca022435": {
          "model_module": "@jupyter-widgets/controls",
          "model_name": "ProgressStyleModel",
          "model_module_version": "1.5.0",
          "state": {
            "_model_module": "@jupyter-widgets/controls",
            "_model_module_version": "1.5.0",
            "_model_name": "ProgressStyleModel",
            "_view_count": null,
            "_view_module": "@jupyter-widgets/base",
            "_view_module_version": "1.2.0",
            "_view_name": "StyleView",
            "bar_color": null,
            "description_width": ""
          }
        },
        "0834f7950ecb44848cbc06d9ca4cee08": {
          "model_module": "@jupyter-widgets/base",
          "model_name": "LayoutModel",
          "model_module_version": "1.2.0",
          "state": {
            "_model_module": "@jupyter-widgets/base",
            "_model_module_version": "1.2.0",
            "_model_name": "LayoutModel",
            "_view_count": null,
            "_view_module": "@jupyter-widgets/base",
            "_view_module_version": "1.2.0",
            "_view_name": "LayoutView",
            "align_content": null,
            "align_items": null,
            "align_self": null,
            "border": null,
            "bottom": null,
            "display": null,
            "flex": null,
            "flex_flow": null,
            "grid_area": null,
            "grid_auto_columns": null,
            "grid_auto_flow": null,
            "grid_auto_rows": null,
            "grid_column": null,
            "grid_gap": null,
            "grid_row": null,
            "grid_template_areas": null,
            "grid_template_columns": null,
            "grid_template_rows": null,
            "height": null,
            "justify_content": null,
            "justify_items": null,
            "left": null,
            "margin": null,
            "max_height": null,
            "max_width": null,
            "min_height": null,
            "min_width": null,
            "object_fit": null,
            "object_position": null,
            "order": null,
            "overflow": null,
            "overflow_x": null,
            "overflow_y": null,
            "padding": null,
            "right": null,
            "top": null,
            "visibility": null,
            "width": null
          }
        },
        "bb97f9ed73384c449b1647a2bae6adaf": {
          "model_module": "@jupyter-widgets/controls",
          "model_name": "DescriptionStyleModel",
          "model_module_version": "1.5.0",
          "state": {
            "_model_module": "@jupyter-widgets/controls",
            "_model_module_version": "1.5.0",
            "_model_name": "DescriptionStyleModel",
            "_view_count": null,
            "_view_module": "@jupyter-widgets/base",
            "_view_module_version": "1.2.0",
            "_view_name": "StyleView",
            "description_width": ""
          }
        },
        "d85a372b5797491caab813953cf96709": {
          "model_module": "@jupyter-widgets/controls",
          "model_name": "HBoxModel",
          "model_module_version": "1.5.0",
          "state": {
            "_dom_classes": [],
            "_model_module": "@jupyter-widgets/controls",
            "_model_module_version": "1.5.0",
            "_model_name": "HBoxModel",
            "_view_count": null,
            "_view_module": "@jupyter-widgets/controls",
            "_view_module_version": "1.5.0",
            "_view_name": "HBoxView",
            "box_style": "",
            "children": [
              "IPY_MODEL_265695bc55d54d419add826189f305d3",
              "IPY_MODEL_906515088fad4f75b688cabb189e8f61",
              "IPY_MODEL_76b74049378d4d1aabd5f60399045ee6"
            ],
            "layout": "IPY_MODEL_21b56267b5eb43de9a56819c1e7c42fd"
          }
        },
        "265695bc55d54d419add826189f305d3": {
          "model_module": "@jupyter-widgets/controls",
          "model_name": "HTMLModel",
          "model_module_version": "1.5.0",
          "state": {
            "_dom_classes": [],
            "_model_module": "@jupyter-widgets/controls",
            "_model_module_version": "1.5.0",
            "_model_name": "HTMLModel",
            "_view_count": null,
            "_view_module": "@jupyter-widgets/controls",
            "_view_module_version": "1.5.0",
            "_view_name": "HTMLView",
            "description": "",
            "description_tooltip": null,
            "layout": "IPY_MODEL_ac83dfe9630c461e92f70e8c396f3189",
            "placeholder": "​",
            "style": "IPY_MODEL_0c1f723881bf4526ba9b252e23ef72a8",
            "value": "Generating embeddings: 100%"
          }
        },
        "906515088fad4f75b688cabb189e8f61": {
          "model_module": "@jupyter-widgets/controls",
          "model_name": "FloatProgressModel",
          "model_module_version": "1.5.0",
          "state": {
            "_dom_classes": [],
            "_model_module": "@jupyter-widgets/controls",
            "_model_module_version": "1.5.0",
            "_model_name": "FloatProgressModel",
            "_view_count": null,
            "_view_module": "@jupyter-widgets/controls",
            "_view_module_version": "1.5.0",
            "_view_name": "ProgressView",
            "bar_style": "success",
            "description": "",
            "description_tooltip": null,
            "layout": "IPY_MODEL_3ef6d9279ad54c3e961b51e839264af8",
            "max": 47,
            "min": 0,
            "orientation": "horizontal",
            "style": "IPY_MODEL_f1741073bfb544a2969fa3ad965acf45",
            "value": 47
          }
        },
        "76b74049378d4d1aabd5f60399045ee6": {
          "model_module": "@jupyter-widgets/controls",
          "model_name": "HTMLModel",
          "model_module_version": "1.5.0",
          "state": {
            "_dom_classes": [],
            "_model_module": "@jupyter-widgets/controls",
            "_model_module_version": "1.5.0",
            "_model_name": "HTMLModel",
            "_view_count": null,
            "_view_module": "@jupyter-widgets/controls",
            "_view_module_version": "1.5.0",
            "_view_name": "HTMLView",
            "description": "",
            "description_tooltip": null,
            "layout": "IPY_MODEL_5e659369bb034b4cbdd0de1ab346e276",
            "placeholder": "​",
            "style": "IPY_MODEL_58b7d3851f6b4e229a0c8a30083c2951",
            "value": " 47/47 [00:19&lt;00:00,  2.00it/s]"
          }
        },
        "21b56267b5eb43de9a56819c1e7c42fd": {
          "model_module": "@jupyter-widgets/base",
          "model_name": "LayoutModel",
          "model_module_version": "1.2.0",
          "state": {
            "_model_module": "@jupyter-widgets/base",
            "_model_module_version": "1.2.0",
            "_model_name": "LayoutModel",
            "_view_count": null,
            "_view_module": "@jupyter-widgets/base",
            "_view_module_version": "1.2.0",
            "_view_name": "LayoutView",
            "align_content": null,
            "align_items": null,
            "align_self": null,
            "border": null,
            "bottom": null,
            "display": null,
            "flex": null,
            "flex_flow": null,
            "grid_area": null,
            "grid_auto_columns": null,
            "grid_auto_flow": null,
            "grid_auto_rows": null,
            "grid_column": null,
            "grid_gap": null,
            "grid_row": null,
            "grid_template_areas": null,
            "grid_template_columns": null,
            "grid_template_rows": null,
            "height": null,
            "justify_content": null,
            "justify_items": null,
            "left": null,
            "margin": null,
            "max_height": null,
            "max_width": null,
            "min_height": null,
            "min_width": null,
            "object_fit": null,
            "object_position": null,
            "order": null,
            "overflow": null,
            "overflow_x": null,
            "overflow_y": null,
            "padding": null,
            "right": null,
            "top": null,
            "visibility": null,
            "width": null
          }
        },
        "ac83dfe9630c461e92f70e8c396f3189": {
          "model_module": "@jupyter-widgets/base",
          "model_name": "LayoutModel",
          "model_module_version": "1.2.0",
          "state": {
            "_model_module": "@jupyter-widgets/base",
            "_model_module_version": "1.2.0",
            "_model_name": "LayoutModel",
            "_view_count": null,
            "_view_module": "@jupyter-widgets/base",
            "_view_module_version": "1.2.0",
            "_view_name": "LayoutView",
            "align_content": null,
            "align_items": null,
            "align_self": null,
            "border": null,
            "bottom": null,
            "display": null,
            "flex": null,
            "flex_flow": null,
            "grid_area": null,
            "grid_auto_columns": null,
            "grid_auto_flow": null,
            "grid_auto_rows": null,
            "grid_column": null,
            "grid_gap": null,
            "grid_row": null,
            "grid_template_areas": null,
            "grid_template_columns": null,
            "grid_template_rows": null,
            "height": null,
            "justify_content": null,
            "justify_items": null,
            "left": null,
            "margin": null,
            "max_height": null,
            "max_width": null,
            "min_height": null,
            "min_width": null,
            "object_fit": null,
            "object_position": null,
            "order": null,
            "overflow": null,
            "overflow_x": null,
            "overflow_y": null,
            "padding": null,
            "right": null,
            "top": null,
            "visibility": null,
            "width": null
          }
        },
        "0c1f723881bf4526ba9b252e23ef72a8": {
          "model_module": "@jupyter-widgets/controls",
          "model_name": "DescriptionStyleModel",
          "model_module_version": "1.5.0",
          "state": {
            "_model_module": "@jupyter-widgets/controls",
            "_model_module_version": "1.5.0",
            "_model_name": "DescriptionStyleModel",
            "_view_count": null,
            "_view_module": "@jupyter-widgets/base",
            "_view_module_version": "1.2.0",
            "_view_name": "StyleView",
            "description_width": ""
          }
        },
        "3ef6d9279ad54c3e961b51e839264af8": {
          "model_module": "@jupyter-widgets/base",
          "model_name": "LayoutModel",
          "model_module_version": "1.2.0",
          "state": {
            "_model_module": "@jupyter-widgets/base",
            "_model_module_version": "1.2.0",
            "_model_name": "LayoutModel",
            "_view_count": null,
            "_view_module": "@jupyter-widgets/base",
            "_view_module_version": "1.2.0",
            "_view_name": "LayoutView",
            "align_content": null,
            "align_items": null,
            "align_self": null,
            "border": null,
            "bottom": null,
            "display": null,
            "flex": null,
            "flex_flow": null,
            "grid_area": null,
            "grid_auto_columns": null,
            "grid_auto_flow": null,
            "grid_auto_rows": null,
            "grid_column": null,
            "grid_gap": null,
            "grid_row": null,
            "grid_template_areas": null,
            "grid_template_columns": null,
            "grid_template_rows": null,
            "height": null,
            "justify_content": null,
            "justify_items": null,
            "left": null,
            "margin": null,
            "max_height": null,
            "max_width": null,
            "min_height": null,
            "min_width": null,
            "object_fit": null,
            "object_position": null,
            "order": null,
            "overflow": null,
            "overflow_x": null,
            "overflow_y": null,
            "padding": null,
            "right": null,
            "top": null,
            "visibility": null,
            "width": null
          }
        },
        "f1741073bfb544a2969fa3ad965acf45": {
          "model_module": "@jupyter-widgets/controls",
          "model_name": "ProgressStyleModel",
          "model_module_version": "1.5.0",
          "state": {
            "_model_module": "@jupyter-widgets/controls",
            "_model_module_version": "1.5.0",
            "_model_name": "ProgressStyleModel",
            "_view_count": null,
            "_view_module": "@jupyter-widgets/base",
            "_view_module_version": "1.2.0",
            "_view_name": "StyleView",
            "bar_color": null,
            "description_width": ""
          }
        },
        "5e659369bb034b4cbdd0de1ab346e276": {
          "model_module": "@jupyter-widgets/base",
          "model_name": "LayoutModel",
          "model_module_version": "1.2.0",
          "state": {
            "_model_module": "@jupyter-widgets/base",
            "_model_module_version": "1.2.0",
            "_model_name": "LayoutModel",
            "_view_count": null,
            "_view_module": "@jupyter-widgets/base",
            "_view_module_version": "1.2.0",
            "_view_name": "LayoutView",
            "align_content": null,
            "align_items": null,
            "align_self": null,
            "border": null,
            "bottom": null,
            "display": null,
            "flex": null,
            "flex_flow": null,
            "grid_area": null,
            "grid_auto_columns": null,
            "grid_auto_flow": null,
            "grid_auto_rows": null,
            "grid_column": null,
            "grid_gap": null,
            "grid_row": null,
            "grid_template_areas": null,
            "grid_template_columns": null,
            "grid_template_rows": null,
            "height": null,
            "justify_content": null,
            "justify_items": null,
            "left": null,
            "margin": null,
            "max_height": null,
            "max_width": null,
            "min_height": null,
            "min_width": null,
            "object_fit": null,
            "object_position": null,
            "order": null,
            "overflow": null,
            "overflow_x": null,
            "overflow_y": null,
            "padding": null,
            "right": null,
            "top": null,
            "visibility": null,
            "width": null
          }
        },
        "58b7d3851f6b4e229a0c8a30083c2951": {
          "model_module": "@jupyter-widgets/controls",
          "model_name": "DescriptionStyleModel",
          "model_module_version": "1.5.0",
          "state": {
            "_model_module": "@jupyter-widgets/controls",
            "_model_module_version": "1.5.0",
            "_model_name": "DescriptionStyleModel",
            "_view_count": null,
            "_view_module": "@jupyter-widgets/base",
            "_view_module_version": "1.2.0",
            "_view_name": "StyleView",
            "description_width": ""
          }
        }
      }
    }
  },
  "cells": [
    {
      "cell_type": "markdown",
      "source": [
        "# 📌🔎💯🤖 AutoLLM: RAG-based LLM Apps and APIs🔎💯🤖\n"
      ],
      "metadata": {
        "id": "2DzDLcvrhhOl"
      }
    },
    {
      "cell_type": "code",
      "execution_count": 1,
      "metadata": {
        "colab": {
          "base_uri": "https://localhost:8080/"
        },
        "id": "riqgLkvrIwg4",
        "outputId": "c4b7d421-9acf-4c1b-f048-89ddbc5164c3"
      },
      "outputs": [
        {
          "output_type": "stream",
          "name": "stdout",
          "text": [
            "\u001b[?25l   \u001b[90m━━━━━━━━━━━━━━━━━━━━━━━━━━━━━━━━━━━━━━━━\u001b[0m \u001b[32m0.0/47.1 kB\u001b[0m \u001b[31m?\u001b[0m eta \u001b[36m-:--:--\u001b[0m\r\u001b[2K   \u001b[90m━━━━━━━━━━━━━━━━━━━━━━━━━━━━━━━━━━━━━━━━\u001b[0m \u001b[32m47.1/47.1 kB\u001b[0m \u001b[31m1.9 MB/s\u001b[0m eta \u001b[36m0:00:00\u001b[0m\n",
            "\u001b[?25h\u001b[?25l   \u001b[90m━━━━━━━━━━━━━━━━━━━━━━━━━━━━━━━━━━━━━━━━\u001b[0m \u001b[32m0.0/78.4 kB\u001b[0m \u001b[31m?\u001b[0m eta \u001b[36m-:--:--\u001b[0m\r\u001b[2K   \u001b[90m━━━━━━━━━━━━━━━━━━━━━━━━━━━━━━━━━━━━━━━━\u001b[0m \u001b[32m78.4/78.4 kB\u001b[0m \u001b[31m4.5 MB/s\u001b[0m eta \u001b[36m0:00:00\u001b[0m\n",
            "\u001b[2K   \u001b[90m━━━━━━━━━━━━━━━━━━━━━━━━━━━━━━━━━━━━━━━━\u001b[0m \u001b[32m2.4/2.4 MB\u001b[0m \u001b[31m57.0 MB/s\u001b[0m eta \u001b[36m0:00:00\u001b[0m\n",
            "\u001b[2K   \u001b[90m━━━━━━━━━━━━━━━━━━━━━━━━━━━━━━━━━━━━━━━━\u001b[0m \u001b[32m15.8/15.8 MB\u001b[0m \u001b[31m46.7 MB/s\u001b[0m eta \u001b[36m0:00:00\u001b[0m\n",
            "\u001b[2K   \u001b[90m━━━━━━━━━━━━━━━━━━━━━━━━━━━━━━━━━━━━━━━━\u001b[0m \u001b[32m19.2/19.2 MB\u001b[0m \u001b[31m46.3 MB/s\u001b[0m eta \u001b[36m0:00:00\u001b[0m\n",
            "\u001b[2K   \u001b[90m━━━━━━━━━━━━━━━━━━━━━━━━━━━━━━━━━━━━━━━━\u001b[0m \u001b[32m57.8/57.8 MB\u001b[0m \u001b[31m9.0 MB/s\u001b[0m eta \u001b[36m0:00:00\u001b[0m\n",
            "\u001b[2K   \u001b[90m━━━━━━━━━━━━━━━━━━━━━━━━━━━━━━━━━━━━━━━━\u001b[0m \u001b[32m321.9/321.9 kB\u001b[0m \u001b[31m12.7 MB/s\u001b[0m eta \u001b[36m0:00:00\u001b[0m\n",
            "\u001b[2K   \u001b[90m━━━━━━━━━━━━━━━━━━━━━━━━━━━━━━━━━━━━━━━━\u001b[0m \u001b[32m94.8/94.8 kB\u001b[0m \u001b[31m6.6 MB/s\u001b[0m eta \u001b[36m0:00:00\u001b[0m\n",
            "\u001b[2K   \u001b[90m━━━━━━━━━━━━━━━━━━━━━━━━━━━━━━━━━━━━━━━━\u001b[0m \u001b[32m464.1/464.1 kB\u001b[0m \u001b[31m21.4 MB/s\u001b[0m eta \u001b[36m0:00:00\u001b[0m\n",
            "\u001b[2K   \u001b[90m━━━━━━━━━━━━━━━━━━━━━━━━━━━━━━━━━━━━━━━━\u001b[0m \u001b[32m12.4/12.4 MB\u001b[0m \u001b[31m54.1 MB/s\u001b[0m eta \u001b[36m0:00:00\u001b[0m\n",
            "\u001b[2K   \u001b[90m━━━━━━━━━━━━━━━━━━━━━━━━━━━━━━━━━━━━━━━━\u001b[0m \u001b[32m71.5/71.5 kB\u001b[0m \u001b[31m4.2 MB/s\u001b[0m eta \u001b[36m0:00:00\u001b[0m\n",
            "\u001b[2K   \u001b[90m━━━━━━━━━━━━━━━━━━━━━━━━━━━━━━━━━━━━━━━━\u001b[0m \u001b[32m62.3/62.3 kB\u001b[0m \u001b[31m4.2 MB/s\u001b[0m eta \u001b[36m0:00:00\u001b[0m\n",
            "\u001b[2K   \u001b[90m━━━━━━━━━━━━━━━━━━━━━━━━━━━━━━━━━━━━━━━━\u001b[0m \u001b[32m162.5/162.5 kB\u001b[0m \u001b[31m8.8 MB/s\u001b[0m eta \u001b[36m0:00:00\u001b[0m\n",
            "\u001b[2K   \u001b[90m━━━━━━━━━━━━━━━━━━━━━━━━━━━━━━━━━━━━━━━━\u001b[0m \u001b[32m1.2/1.2 MB\u001b[0m \u001b[31m32.8 MB/s\u001b[0m eta \u001b[36m0:00:00\u001b[0m\n",
            "\u001b[2K   \u001b[90m━━━━━━━━━━━━━━━━━━━━━━━━━━━━━━━━━━━━━━━━\u001b[0m \u001b[32m50.9/50.9 kB\u001b[0m \u001b[31m3.3 MB/s\u001b[0m eta \u001b[36m0:00:00\u001b[0m\n",
            "\u001b[2K   \u001b[90m━━━━━━━━━━━━━━━━━━━━━━━━━━━━━━━━━━━━━━━━\u001b[0m \u001b[32m98.7/98.7 kB\u001b[0m \u001b[31m6.0 MB/s\u001b[0m eta \u001b[36m0:00:00\u001b[0m\n",
            "\u001b[?25h"
          ]
        }
      ],
      "source": [
        "!pip install autollm gradio gitpython nbconvert -Uqq"
      ]
    },
    {
      "cell_type": "code",
      "source": [
        "from autollm import AutoQueryEngine #Nlp ile sorgu\n",
        "from autollm.utils.document_reading import read_github_repo_as_documents, read_files_as_documents #dosyaları ve github depolarını belge formatında okumaya yarar\n",
        "import os\n",
        "import gradio as gr #mak öğrenimi modelleri etkileşim"
      ],
      "metadata": {
        "id": "fZOu86PeUCVf"
      },
      "execution_count": 3,
      "outputs": []
    },
    {
      "cell_type": "code",
      "source": [
        "os.environ[\"OPENAI_API_KEY\"] = \"blablablabla\""
      ],
      "metadata": {
        "id": "aJLA5MLiVx9d"
      },
      "execution_count": 4,
      "outputs": []
    },
    {
      "cell_type": "markdown",
      "source": [
        "##Read Files as Documents"
      ],
      "metadata": {
        "id": "Z18nWM8vWUYf"
      }
    },
    {
      "cell_type": "code",
      "source": [
        "git_repo_url = \"https://github.com/langchain-ai/langchain.git\"\n",
        "required_exts = [\".md\"]  #markdown dosyalarını dahil ediyoruz"
      ],
      "metadata": {
        "id": "R7mrp5arVyDO"
      },
      "execution_count": 6,
      "outputs": []
    },
    {
      "cell_type": "code",
      "source": [
        "documents =read_github_repo_as_documents(git_repo_url = git_repo_url,\n",
        "                                         relative_folder_path = \"docs\",\n",
        "                                         required_exts = required_exts)"
      ],
      "metadata": {
        "colab": {
          "base_uri": "https://localhost:8080/"
        },
        "id": "zjlsdMCoVyF0",
        "outputId": "f87a3f37-eafb-4668-b02b-ffc78bf6b45a"
      },
      "execution_count": 7,
      "outputs": [
        {
          "output_type": "stream",
          "name": "stderr",
          "text": [
            "2025-02-06 08:32:47,019 - autollm - INFO - Cloning github repo https://github.com/langchain-ai/langchain.git into temporary directory autollm/temp..\n",
            "2025-02-06 08:33:16,196 - autollm - INFO - Reading files from autollm/temp/docs..\n",
            "Loading files: 100%|██████████| 24/24 [00:00<00:00, 2578.27file/s]\n",
            "2025-02-06 08:33:16,213 - autollm - INFO - Found 24 'document(s)'.\n",
            "2025-02-06 08:33:16,216 - autollm - INFO - Operations complete, deleting temporary directory autollm/temp..\n"
          ]
        }
      ]
    },
    {
      "cell_type": "markdown",
      "source": [
        "#AutoQueryEngine\n"
      ],
      "metadata": {
        "id": "5slo7WSZZa7V"
      }
    },
    {
      "cell_type": "code",
      "source": [
        "query_engine = AutoQueryEngine.from_defaults(documents)"
      ],
      "metadata": {
        "colab": {
          "base_uri": "https://localhost:8080/",
          "height": 208,
          "referenced_widgets": [
            "ba828b355ad34ab38f1637a981dfc719",
            "aa8faccb60774b1d8779d5a3f0452e3a",
            "3271fa02339f4b42adac9242c1d5377f",
            "d3c2cf7f51ff4ba8a289efd297ad7230",
            "42fbacccf9dc4b11aaf15f01a1dc6286",
            "3e8c91361de44076b87c2fad9d238db1",
            "208781bfa6a640d6ac08c9d292c9edc2",
            "9b9df578b47149dcbf459ed4401fd56a",
            "2e3aa2d9416b4cf180729140d2e33f8d",
            "eb8d47df803449faa18b89d9756d9a79",
            "681a1cd7383540c59f828a813c0d8c3b",
            "d803935fcfae4e48837421a750528848",
            "4bef95d9e9b149e5a2f4a9cf44696f16",
            "d41809c87ee44fc6b4fe58674205ad50",
            "21be01901f434ab2b7e5f41d5b98be4a",
            "ecd46899561a4e548905f6ca0b74a7ad",
            "6aa01be8da94464e9adca99679285c6c",
            "9ecb8bdc9c214a32b5e6add346297987",
            "bbbec17cb7d8414e9247c711c0b204d3",
            "ab6be3161f87473e8000f5e2d9a055e0",
            "a3fa01807c7e431eb89b5b49bd926d46",
            "a324b2deb0d14962967afd0c8875e455"
          ]
        },
        "id": "zGuBnUpXVyMD",
        "outputId": "0c98e1a3-7c40-4939-8ec3-d7be3b220639"
      },
      "execution_count": 9,
      "outputs": [
        {
          "output_type": "stream",
          "name": "stderr",
          "text": [
            "2025-02-06 08:35:48,307 - autollm - WARNING - use_async is only supported for SimpleVectorStore. Ignoring use_async.\n"
          ]
        },
        {
          "output_type": "display_data",
          "data": {
            "text/plain": [
              "Parsing nodes:   0%|          | 0/24 [00:00<?, ?it/s]"
            ],
            "application/vnd.jupyter.widget-view+json": {
              "version_major": 2,
              "version_minor": 0,
              "model_id": "ba828b355ad34ab38f1637a981dfc719"
            }
          },
          "metadata": {}
        },
        {
          "output_type": "display_data",
          "data": {
            "text/plain": [
              "Generating embeddings:   0%|          | 0/47 [00:00<?, ?it/s]"
            ],
            "application/vnd.jupyter.widget-view+json": {
              "version_major": 2,
              "version_minor": 0,
              "model_id": "d803935fcfae4e48837421a750528848"
            }
          },
          "metadata": {}
        },
        {
          "output_type": "stream",
          "name": "stderr",
          "text": [
            "2025-02-06 08:35:53,297 - autollm - INFO - Embedding Token Usage: 3224\n",
            "2025-02-06 08:35:56,669 - autollm - INFO - Embedding Token Usage: 3013\n",
            "2025-02-06 08:35:59,634 - autollm - INFO - Embedding Token Usage: 4049\n",
            "2025-02-06 08:36:03,601 - autollm - INFO - Embedding Token Usage: 4610\n",
            "2025-02-06 08:36:05,097 - autollm - INFO - Embedding Token Usage: 1892\n"
          ]
        }
      ]
    },
    {
      "cell_type": "code",
      "source": [
        "system_prompt = \"You are an AI assistant that helps users find the most relevant accurate answers to their questions.\"\n",
        "#en alakalı ve doğru cevapları sağlaması\n",
        "query_wrapper_prompt = \"\"\"\n",
        "\n",
        "The document information is below.\n",
        "----------------------------------\n",
        "{context_str}\n",
        "----------------------------------\n",
        "Using the document information and mostly relying on it,\n",
        "answer the query.\n",
        "Query: {query_str}\n",
        "Answer:\n",
        "\"\"\""
      ],
      "metadata": {
        "id": "p3641K-GZg1y"
      },
      "execution_count": 12,
      "outputs": []
    },
    {
      "cell_type": "markdown",
      "source": [
        "This code snippet defines a framework for generating answers to user queries based\n",
        "on provided document context. -The `system prompt` helps the AI assistant focus on\n",
        " finding `relevant and accurate information`, while the `query_wrapper_prompt` serves\n",
        " as a `template` for incorporating context into the query-answering process.\n",
        " - Essentially, it helps ensure that `responses` are grounded in the specific context,\n",
        " leading to more `accurate` and `relevant answers`.\n",
        "\n",
        "---\n",
        "Bu kod parçacığı, kullanıcı sorgularına dayalı yanıtlar üretmek için bir çerçeve tanımlar\n",
        "sağlanan belge bağlamında. -Sistem istemi, yapay zeka asistanının aşağıdakilere odaklanmasına yardımcı olur\n",
        " `ilgili ve doğru bilgiyi` bulurken, `query_wrapper_prompt` hizmet eder\n",
        " Bağlamı soru cevaplama sürecine dahil etmek için bir “şablon” olarak.\n",
        " - Esasen, “yanıtların” belirli bir bağlama dayandırılmasını sağlamaya yardımcı olur,\n",
        " daha “doğru” ve “ilgili” cevaplara yol açar\n"
      ],
      "metadata": {
        "id": "oPDnoI_UaJ-i"
      }
    },
    {
      "cell_type": "code",
      "source": [
        "enable_cost_calculator = True#modelin sorgu başına maliyet hesaplaması"
      ],
      "metadata": {
        "id": "ZAqwXY7naJIP"
      },
      "execution_count": 13,
      "outputs": []
    },
    {
      "cell_type": "code",
      "source": [
        "model = \"gpt-4o-mini\""
      ],
      "metadata": {
        "id": "9QWqvcE_aJKo"
      },
      "execution_count": 14,
      "outputs": []
    },
    {
      "cell_type": "code",
      "source": [
        "vector_store_type = \"LanceDBVectorStore\"#LanceDB adlıvektör kullandık"
      ],
      "metadata": {
        "id": "kPeNQGF1aJNe"
      },
      "execution_count": 16,
      "outputs": []
    },
    {
      "cell_type": "code",
      "source": [
        "uri = \"tmp/lancedb\"\n",
        "table_name = \"vectors\""
      ],
      "metadata": {
        "id": "sqBdkEl4a900"
      },
      "execution_count": 17,
      "outputs": []
    },
    {
      "cell_type": "code",
      "source": [
        "chunk_size = 1024 #veriyi 1024 karakterlik parçalara böler"
      ],
      "metadata": {
        "id": "LpvU3URIbH4e"
      },
      "execution_count": 18,
      "outputs": []
    },
    {
      "cell_type": "code",
      "source": [
        "similarity_top_k = 5 #arama sonucunda en alakalı 5 sonucu"
      ],
      "metadata": {
        "id": "u60FgeC4bQRE"
      },
      "execution_count": 20,
      "outputs": []
    },
    {
      "cell_type": "code",
      "source": [
        "llm_params = {\"model\" : model}"
      ],
      "metadata": {
        "id": "sHkdJjUmbWkE"
      },
      "execution_count": 21,
      "outputs": []
    },
    {
      "cell_type": "code",
      "source": [
        "vector_store_params = {\"vector_store_type\": vector_store_type, \"uri\": uri, \"table_name\": table_name}"
      ],
      "metadata": {
        "id": "4-4iAhUybbG1"
      },
      "execution_count": 22,
      "outputs": []
    },
    {
      "cell_type": "code",
      "source": [
        "service_context_params = {\"chunk_size\": chunk_size} #metni bölme ayarı"
      ],
      "metadata": {
        "id": "U1LX3qSObek2"
      },
      "execution_count": 24,
      "outputs": []
    },
    {
      "cell_type": "code",
      "source": [
        "query_engine_params = {\"similarity_top_k\": similarity_top_k} #kaç sonuç getireceği"
      ],
      "metadata": {
        "id": "7b97JYa7bkC9"
      },
      "execution_count": 26,
      "outputs": []
    },
    {
      "cell_type": "code",
      "source": [
        "query_engine_new = AutoQueryEngine.from_defaults(documents = documents,\n",
        "                                                 system_prompt = system_prompt,\n",
        "                                                 query_wrapper_prompt = query_wrapper_prompt,\n",
        "                                                 enable_cost_calculator = enable_cost_calculator,\n",
        "                                                 llm_params = llm_params,\n",
        "                                                 vector_store_params = vector_store_params,\n",
        "                                                 service_context_params = service_context_params,\n",
        "                                                 query_engine_params = query_engine_params)"
      ],
      "metadata": {
        "colab": {
          "base_uri": "https://localhost:8080/",
          "height": 244,
          "referenced_widgets": [
            "8bb7595c7ea143eeb9ec0bc8c7006d04",
            "8e7e5867b7b0486bb172f23492bf7166",
            "2da99d9c3fd04b1e8ea07e3b5b4ac674",
            "8aa9d168efed44219084720e6880a27a",
            "ee6df318a7414d32b2e54251f220e2b7",
            "69eb7cc704804ce19264b6c07440cedb",
            "ce44eee71cd844bfad39ad6b1dfe7cbc",
            "86abc256d62f4ef48867b1c9b79e1508",
            "897b17fb69e240ed9959c087ca022435",
            "0834f7950ecb44848cbc06d9ca4cee08",
            "bb97f9ed73384c449b1647a2bae6adaf",
            "d85a372b5797491caab813953cf96709",
            "265695bc55d54d419add826189f305d3",
            "906515088fad4f75b688cabb189e8f61",
            "76b74049378d4d1aabd5f60399045ee6",
            "21b56267b5eb43de9a56819c1e7c42fd",
            "ac83dfe9630c461e92f70e8c396f3189",
            "0c1f723881bf4526ba9b252e23ef72a8",
            "3ef6d9279ad54c3e961b51e839264af8",
            "f1741073bfb544a2969fa3ad965acf45",
            "5e659369bb034b4cbdd0de1ab346e276",
            "58b7d3851f6b4e229a0c8a30083c2951"
          ]
        },
        "id": "IzfD436ubnhe",
        "outputId": "dfefc680-67d8-4dbc-b20c-5ccf15a8671e"
      },
      "execution_count": 29,
      "outputs": [
        {
          "output_type": "stream",
          "name": "stderr",
          "text": [
            "2025-02-06 08:45:27,050 - autollm - WARNING - use_async is only supported for SimpleVectorStore. Ignoring use_async.\n",
            "2025-02-06 08:45:27,053 - autollm - INFO - Existing database found. Creating a new database at ./.lancedb_1.\n",
            "2025-02-06 08:45:27,054 - autollm - INFO - Please use exist_ok=True to add to the existing database and overwrite_existing=True to overwrite the existing database.\n"
          ]
        },
        {
          "output_type": "display_data",
          "data": {
            "text/plain": [
              "Parsing nodes:   0%|          | 0/24 [00:00<?, ?it/s]"
            ],
            "application/vnd.jupyter.widget-view+json": {
              "version_major": 2,
              "version_minor": 0,
              "model_id": "8bb7595c7ea143eeb9ec0bc8c7006d04"
            }
          },
          "metadata": {}
        },
        {
          "output_type": "display_data",
          "data": {
            "text/plain": [
              "Generating embeddings:   0%|          | 0/47 [00:00<?, ?it/s]"
            ],
            "application/vnd.jupyter.widget-view+json": {
              "version_major": 2,
              "version_minor": 0,
              "model_id": "d85a372b5797491caab813953cf96709"
            }
          },
          "metadata": {}
        },
        {
          "output_type": "stream",
          "name": "stderr",
          "text": [
            "2025-02-06 08:45:30,657 - autollm - INFO - Embedding Token Usage: 3224\n",
            "2025-02-06 08:45:33,979 - autollm - INFO - Embedding Token Usage: 3013\n",
            "2025-02-06 08:45:37,289 - autollm - INFO - Embedding Token Usage: 4049\n",
            "2025-02-06 08:45:40,322 - autollm - INFO - Embedding Token Usage: 4610\n",
            "2025-02-06 08:45:46,959 - autollm - INFO - Embedding Token Usage: 1892\n"
          ]
        }
      ]
    },
    {
      "cell_type": "code",
      "source": [],
      "metadata": {
        "id": "io2usq1ubyM8"
      },
      "execution_count": null,
      "outputs": []
    },
    {
      "cell_type": "markdown",
      "source": [
        "#Ask your Question\n"
      ],
      "metadata": {
        "id": "M9-pXqtGcE8M"
      }
    },
    {
      "cell_type": "code",
      "source": [
        "response = query_engine_new.query(\"What do we mean by Chain in Langchain?\")"
      ],
      "metadata": {
        "colab": {
          "base_uri": "https://localhost:8080/"
        },
        "id": "yXkFC7gLcHbY",
        "outputId": "a533df32-e9aa-49c6-90ef-a659e022a7c7"
      },
      "execution_count": 30,
      "outputs": [
        {
          "output_type": "stream",
          "name": "stderr",
          "text": [
            "2025-02-06 08:46:41,987 - autollm - INFO - Embedding Token Usage: 10\n",
            "2025-02-06 08:46:43,258 - autollm - INFO - LLM Prompt Token Usage: 3\n",
            "2025-02-06 08:46:43,259 - autollm - INFO - LLM Completion Token Usage: 3\n",
            "2025-02-06 08:46:43,263 - autollm - INFO - LLM Latest Token Cost: $0.0000\n",
            "2025-02-06 08:46:43,265 - autollm - INFO - LLM Total Token Cost: $0.0000\n"
          ]
        }
      ]
    },
    {
      "cell_type": "code",
      "source": [
        "response"
      ],
      "metadata": {
        "colab": {
          "base_uri": "https://localhost:8080/"
        },
        "id": "FVNd8ydrcHdt",
        "outputId": "7651464d-d358-49be-fd72-ec3a0b8e659c"
      },
      "execution_count": 31,
      "outputs": [
        {
          "output_type": "execute_result",
          "data": {
            "text/plain": [
              "Response(response='In Langchain, the term \"Chain\" refers to the concept of tracing chains and agents within the system. The integration of Portkey\\'s Langchain provides visibility into the running of an agent, allowing users to monitor and track the workflow of an agent through a configuration-first approach. By modifying the `ChatOpenAI` class to use the AI Gateway provided by Portkey, users can gain insights into how requests are distributed and processed within the system. This visibility into the chain of actions and agents involved in processing requests enhances the monitoring and management capabilities of Langchain applications.', source_nodes=[NodeWithScore(node=TextNode(id_='7dd71dd2-af65-4960-b37b-40f3b86d2aca', embedding=None, metadata={}, excluded_embed_metadata_keys=[], excluded_llm_metadata_keys=[], relationships={<NodeRelationship.SOURCE: '1'>: RelatedNodeInfo(node_id='autollm/temp/docs/README.md_part_0', node_type=None, metadata={}, hash=None)}, hash='f80e4e0d114fd6c5489eab0793776d4447c85337265048b6f0c2dbef060b1616', text='# LangChain Documentation\\n\\nFor more information on contributing to our documentation, see the Documentation Contributing Guide', start_char_idx=None, end_char_idx=None, text_template='{metadata_str}\\n\\n{content}', metadata_template='{key}: {value}', metadata_seperator='\\n'), score=0.6625553965568542), NodeWithScore(node=TextNode(id_='0b8c4b3e-d0ea-413b-b904-2d32386cdff4', embedding=None, metadata={}, excluded_embed_metadata_keys=[], excluded_llm_metadata_keys=[], relationships={<NodeRelationship.SOURCE: '1'>: RelatedNodeInfo(node_id='autollm/temp/docs/docs/how_to/pydantic_compatibility.md_part_0', node_type=None, metadata={}, hash=None)}, hash='27d57e0c5a47b27022d88ac269eda10b6e3bc454294fc0caccb2ee48158df864', text=\"# How to use LangChain with different Pydantic versions\\n\\nAs of the `0.3` release, LangChain uses Pydantic 2 internally. \\n\\nUsers should install Pydantic 2 and are advised to **avoid** using the `pydantic.v1` namespace of Pydantic 2 with\\nLangChain APIs.\\n\\nIf you're working with prior versions of LangChain, please see the following guide\\non Pydantic compatibility.\", start_char_idx=None, end_char_idx=None, text_template='{metadata_str}\\n\\n{content}', metadata_template='{key}: {value}', metadata_seperator='\\n'), score=0.6334732174873352), NodeWithScore(node=TextNode(id_='13466503-6ddc-488c-a212-24b11a967026', embedding=None, metadata={}, excluded_embed_metadata_keys=[], excluded_llm_metadata_keys=[], relationships={<NodeRelationship.SOURCE: '1'>: RelatedNodeInfo(node_id='autollm/temp/docs/docs/integrations/providers/portkey/index.md_part_0', node_type=None, metadata={}, hash=None)}, hash='34fc756c58988e580c88acb773bfde009cadd5c439e3bdf1faf0bca6d7c9542b', text='```\\n\\nThe Portkey AI gateway will authenticate the API request to Anthropic and get the response back in the OpenAI format for you to consume.\\n\\nThe AI gateway extends Langchain\\'s `ChatOpenAI` class making it a single interface to call any provider and any model.\\n\\n## Advanced Routing - Load Balancing, Fallbacks, Retries\\nThe Portkey AI Gateway brings capabilities like load-balancing, fallbacks, experimentation and canary testing to Langchain through a configuration-first approach.\\n\\nLet\\'s take an **example** where we might want to split traffic between `gpt-4` and `claude-opus` 50:50 to test the two large models. The gateway configuration for this would look like the following:\\n\\n```python\\nconfig = {\\n    \"strategy\": {\\n         \"mode\": \"loadbalance\"\\n    },\\n    \"targets\": [{\\n        \"virtual_key\": \"openai-25654\", # OpenAI\\'s virtual key\\n        \"override_params\": {\"model\": \"gpt4\"},\\n        \"weight\": 0.5\\n    }, {\\n        \"virtual_key\": \"anthropic-25654\", # Anthropic\\'s virtual key\\n        \"override_params\": {\"model\": \"claude-3-opus-20240229\"},\\n        \"weight\": 0.5\\n    }]\\n}\\n```\\n\\nWe can then use this config in our requests being made from langchain.\\n\\n```python\\nportkey_headers = createHeaders(\\n    api_key=PORTKEY_API_KEY,\\n    config=config\\n)\\n\\nllm = ChatOpenAI(api_key=\"X\", base_url=PORTKEY_GATEWAY_URL, default_headers=portkey_headers)\\n\\nllm.invoke(\"What is the meaning of life, universe and everything?\")\\n```\\n\\nWhen the LLM is invoked, Portkey will distribute the requests to `gpt-4` and `claude-3-opus-20240229` in the ratio of the defined weights.\\n\\nYou can find more config examples here.\\n\\n## **Tracing Chains & Agents**\\n\\nPortkey\\'s Langchain integration gives you full visibility into the running of an agent. Let\\'s take an example of a popular agentic workflow.\\n\\nWe only need to modify the `ChatOpenAI` class to use the AI Gateway as above.', start_char_idx=None, end_char_idx=None, text_template='{metadata_str}\\n\\n{content}', metadata_template='{key}: {value}', metadata_seperator='\\n'), score=0.6079348921775818), NodeWithScore(node=TextNode(id_='e8a01faa-bda7-41aa-be57-6f49d89b52c1', embedding=None, metadata={}, excluded_embed_metadata_keys=[], excluded_llm_metadata_keys=[], relationships={<NodeRelationship.SOURCE: '1'>: RelatedNodeInfo(node_id='autollm/temp/docs/docs/integrations/providers/portkey/index.md_part_0', node_type=None, metadata={}, hash=None)}, hash='7bf325203c4ca9baecacea4244de97835c15ac9579170394de5d40fae396213b', text='```python\\nportkey_headers = createHeaders(\\n    api_key=PORTKEY_API_KEY,\\n    config=config\\n)\\n\\nllm = ChatOpenAI(api_key=\"X\", base_url=PORTKEY_GATEWAY_URL, default_headers=portkey_headers)\\n\\nllm.invoke(\"What is the meaning of life, universe and everything?\")\\n```\\n\\nWhen the LLM is invoked, Portkey will distribute the requests to `gpt-4` and `claude-3-opus-20240229` in the ratio of the defined weights.\\n\\nYou can find more config examples here.\\n\\n## **Tracing Chains & Agents**\\n\\nPortkey\\'s Langchain integration gives you full visibility into the running of an agent. Let\\'s take an example of a popular agentic workflow.\\n\\nWe only need to modify the `ChatOpenAI` class to use the AI Gateway as above.\\n\\n```python\\nfrom langchain import hub  \\nfrom langchain.agents import AgentExecutor, create_openai_tools_agent  \\nfrom langchain_openai import ChatOpenAI\\nfrom langchain_core.tools import tool\\nfrom portkey_ai import PORTKEY_GATEWAY_URL, createHeaders\\n \\nprompt = hub.pull(\"hwchase17/openai-tools-agent\")\\n\\nportkey_headers = createHeaders(\\n    api_key=PORTKEY_API_KEY,\\n    virtual_key=OPENAI_VIRTUAL_KEY,\\n    trace_id=\"uuid-uuid-uuid-uuid\"\\n)\\n\\n@tool\\ndef multiply(first_int: int, second_int: int) -> int:\\n    \"\"\"Multiply two integers together.\"\"\"\\n    return first_int * second_int\\n  \\n  \\n@tool  \\ndef exponentiate(base: int, exponent: int) -> int:  \\n    \"Exponentiate the base to the exponent power.\"', start_char_idx=None, end_char_idx=None, text_template='{metadata_str}\\n\\n{content}', metadata_template='{key}: {value}', metadata_seperator='\\n'), score=0.6063792705535889), NodeWithScore(node=TextNode(id_='3216248b-12ba-47d1-9039-a1c32ad6762b', embedding=None, metadata={}, excluded_embed_metadata_keys=[], excluded_llm_metadata_keys=[], relationships={<NodeRelationship.SOURCE: '1'>: RelatedNodeInfo(node_id='autollm/temp/docs/docs/integrations/providers/portkey/index.md_part_0', node_type=None, metadata={}, hash=None)}, hash='8c20fdb0e4c0c91e063b2892aa4a00f72c8a914bdabcb3d08b400b85a432b581', text='# Portkey\\n\\nPortkey is the Control Panel for AI apps. With it\\'s popular AI Gateway and Observability Suite, hundreds of teams ship **reliable**, **cost-efficient**, and **fast** apps.\\n\\n## LLMOps for Langchain\\n\\nPortkey brings production readiness to Langchain. With Portkey, you can \\n- [x] Connect to 150+ models through a unified API,\\n- [x] View 42+ **metrics & logs** for all requests, \\n- [x] Enable **semantic cache** to reduce latency & costs, \\n- [x] Implement automatic **retries & fallbacks** for failed requests, \\n- x] Add **custom tags** to requests for better tracking and analysis and [more.\\n\\n\\n## Quickstart - Portkey & Langchain\\nSince Portkey is fully compatible with the OpenAI signature, you can connect to the Portkey AI Gateway through the `ChatOpenAI` interface.\\n\\n- Set the `base_url` as `PORTKEY_GATEWAY_URL`\\n- Add `default_headers` to consume the headers needed by Portkey using the `createHeaders` helper method.\\n\\nTo start, get your Portkey API key by signing up here. (Click the profile icon on the bottom left, then click on \"Copy API Key\") or deploy the open source AI gateway in your own environment.\\n\\nNext, install the Portkey SDK\\n```python\\npip install -U portkey_ai\\n```\\n\\nWe can now connect to the Portkey AI Gateway by updating the `ChatOpenAI` model in Langchain\\n```python\\nfrom langchain_openai import ChatOpenAI\\nfrom portkey_ai import createHeaders, PORTKEY_GATEWAY_URL\\n\\nPORTKEY_API_KEY = \"...\" # Not needed when hosting your own gateway\\nPROVIDER_API_KEY = \"...\" # Add the API key of the AI provider being used \\n\\nportkey_headers = createHeaders(api_key=PORTKEY_API_KEY,provider=\"openai\")\\n\\nllm = ChatOpenAI(api_key=PROVIDER_API_KEY, base_url=PORTKEY_GATEWAY_URL, default_headers=portkey_headers)\\n\\nllm.invoke(\"What is the meaning of life, universe and everything?\")\\n```\\n\\nThe request is routed through your Portkey AI Gateway to the specified `provider`. Portkey will also start logging all the requests in your account that makes debugging extremely simple.', start_char_idx=None, end_char_idx=None, text_template='{metadata_str}\\n\\n{content}', metadata_template='{key}: {value}', metadata_seperator='\\n'), score=0.5980753898620605), NodeWithScore(node=TextNode(id_='67cafc09-20a0-4e47-8843-ab9d5cc0ebeb', embedding=None, metadata={}, excluded_embed_metadata_keys=[], excluded_llm_metadata_keys=[], relationships={<NodeRelationship.SOURCE: '1'>: RelatedNodeInfo(node_id='autollm/temp/docs/docs/integrations/providers/databricks.md_part_0', node_type=None, metadata={}, hash=None)}, hash='92fe56f3794cdbeb7631382957e2f4459f98709e37a4f35c01431632d4c53ce1', text=\"Databricks\\n==========\\n\\n> Databricks Intelligence Platform is the world's first data intelligence platform powered by generative AI. Infuse AI into every facet of your business.\\n\\nDatabricks embraces the LangChain ecosystem in various ways:\\n\\n1. 🚀 **Model Serving** - Access state-of-the-art LLMs, such as DBRX, Llama3, Mixtral, or your fine-tuned models on Databricks Model Serving, via a highly available and low-latency inference endpoint. LangChain provides LLM (`Databricks`), Chat Model (`ChatDatabricks`), and Embeddings (`DatabricksEmbeddings`) implementations, streamlining the integration of your models hosted on Databricks Model Serving with your LangChain applications.\\n2. 📃 **Vector Search** - Databricks Vector Search is a serverless vector database seamlessly integrated within the Databricks Platform. Using `DatabricksVectorSearch`, you can incorporate the highly scalable and reliable similarity search engine into your LangChain applications.\\n3. 📊 **MLflow** - MLflow is an open-source platform to manage full the ML lifecycle, including experiment management, evaluation, tracing, deployment, and more. MLflow's LangChain Integration streamlines the process of developing and operating modern compound ML systems.\\n4. 🌐 **SQL Database** - Databricks SQL is integrated with `SQLDatabase` in LangChain, allowing you to access the auto-optimizing, exceptionally performant data warehouse.\\n5. 💡 **Open Models** - Databricks open sources models, such as DBRX, which are available through the Hugging Face Hub. These models can be directly utilized with LangChain, leveraging its integration with the `transformers` library.\\n\\nInstallation\\n------------\\n\\nFirst-party Databricks integrations are now available in the databricks-langchain partner package.\\n\\n```\\npip install databricks-langchain\\n```\\n\\nThe legacy langchain-databricks partner package is still available but will be soon deprecated. \\n\\nChat Model\\n----------\\n\\n`ChatDatabricks` is a Chat Model class to access chat endpoints hosted on Databricks, including state-of-the-art models such as Llama3, Mixtral, and DBRX, as well as your own fine-tuned models.\", start_char_idx=None, end_char_idx=None, text_template='{metadata_str}\\n\\n{content}', metadata_template='{key}: {value}', metadata_seperator='\\n'), score=0.595996081829071)], metadata={'7dd71dd2-af65-4960-b37b-40f3b86d2aca': {}, '0b8c4b3e-d0ea-413b-b904-2d32386cdff4': {}, '13466503-6ddc-488c-a212-24b11a967026': {}, 'e8a01faa-bda7-41aa-be57-6f49d89b52c1': {}, '3216248b-12ba-47d1-9039-a1c32ad6762b': {}, '67cafc09-20a0-4e47-8843-ab9d5cc0ebeb': {}})"
            ]
          },
          "metadata": {},
          "execution_count": 31
        }
      ]
    },
    {
      "cell_type": "code",
      "source": [
        "response.response"
      ],
      "metadata": {
        "colab": {
          "base_uri": "https://localhost:8080/",
          "height": 143
        },
        "id": "of5G_E4ScHf_",
        "outputId": "09d1f221-7117-4f33-939f-f75e58e2926b"
      },
      "execution_count": 32,
      "outputs": [
        {
          "output_type": "execute_result",
          "data": {
            "text/plain": [
              "'In Langchain, the term \"Chain\" refers to the concept of tracing chains and agents within the system. The integration of Portkey\\'s Langchain provides visibility into the running of an agent, allowing users to monitor and track the workflow of an agent through a configuration-first approach. By modifying the `ChatOpenAI` class to use the AI Gateway provided by Portkey, users can gain insights into how requests are distributed and processed within the system. This visibility into the chain of actions and agents involved in processing requests enhances the monitoring and management capabilities of Langchain applications.'"
            ],
            "application/vnd.google.colaboratory.intrinsic+json": {
              "type": "string"
            }
          },
          "metadata": {},
          "execution_count": 32
        }
      ]
    },
    {
      "cell_type": "code",
      "source": [],
      "metadata": {
        "id": "uUhx28PlcHi2"
      },
      "execution_count": null,
      "outputs": []
    },
    {
      "cell_type": "markdown",
      "source": [
        "#Gradio Application\n"
      ],
      "metadata": {
        "id": "zoOGaETgcsgH"
      }
    },
    {
      "cell_type": "code",
      "source": [],
      "metadata": {
        "id": "SW2a0tIhcHlc"
      },
      "execution_count": null,
      "outputs": []
    },
    {
      "cell_type": "code",
      "source": [
        "import gradio as gr\n",
        "def chat_function(query):\n",
        "  return query_engine.query(query).response"
      ],
      "metadata": {
        "id": "Ln6co2vmcHqw"
      },
      "execution_count": 33,
      "outputs": []
    },
    {
      "cell_type": "code",
      "source": [
        "demo = gr.Interface(fn=chat_function, inputs=\"text\", outputs=\"text\")\n"
      ],
      "metadata": {
        "id": "ag7ZkNFHcHtK"
      },
      "execution_count": 34,
      "outputs": []
    },
    {
      "cell_type": "code",
      "source": [
        "demo.launch(share = True)"
      ],
      "metadata": {
        "colab": {
          "base_uri": "https://localhost:8080/",
          "height": 612
        },
        "id": "4immD2cvcqqp",
        "outputId": "39968a01-0ca1-43e8-dae3-2bcd8c3b82e0"
      },
      "execution_count": 35,
      "outputs": [
        {
          "output_type": "stream",
          "name": "stdout",
          "text": [
            "Colab notebook detected. To show errors in colab notebook, set debug=True in launch()\n",
            "* Running on public URL: https://41d8a1bab99c30fb9a.gradio.live\n",
            "\n",
            "This share link expires in 72 hours. For free permanent hosting and GPU upgrades, run `gradio deploy` from the terminal in the working directory to deploy to Hugging Face Spaces (https://huggingface.co/spaces)\n"
          ]
        },
        {
          "output_type": "display_data",
          "data": {
            "text/plain": [
              "<IPython.core.display.HTML object>"
            ],
            "text/html": [
              "<div><iframe src=\"https://41d8a1bab99c30fb9a.gradio.live\" width=\"100%\" height=\"500\" allow=\"autoplay; camera; microphone; clipboard-read; clipboard-write;\" frameborder=\"0\" allowfullscreen></iframe></div>"
            ]
          },
          "metadata": {}
        },
        {
          "output_type": "execute_result",
          "data": {
            "text/plain": []
          },
          "metadata": {},
          "execution_count": 35
        }
      ]
    },
    {
      "cell_type": "code",
      "source": [],
      "metadata": {
        "id": "eIXHiGWGcqtF"
      },
      "execution_count": null,
      "outputs": []
    },
    {
      "cell_type": "code",
      "source": [],
      "metadata": {
        "id": "OKuuy8oscqvh"
      },
      "execution_count": null,
      "outputs": []
    },
    {
      "cell_type": "code",
      "source": [],
      "metadata": {
        "id": "oIq2oO0Jcqxy"
      },
      "execution_count": null,
      "outputs": []
    }
  ]
}